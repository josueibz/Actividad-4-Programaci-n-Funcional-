{
 "cells": [
  {
   "cell_type": "code",
   "execution_count": 1,
   "metadata": {},
   "outputs": [],
   "source": [
    "import pandas as pd\n",
    "import numpy as np\n",
    "import matplotlib.pyplot as plt\n",
    "import os\n",
    "import cristianoronaldo as cr7"
   ]
  },
  {
   "cell_type": "code",
   "execution_count": null,
   "metadata": {},
   "outputs": [],
   "source": [
    "df = cr7.cargar_dataset('Copia de Bologna_Italia.csv')\n",
    "df.head()"
   ]
  },
  {
   "cell_type": "code",
   "execution_count": null,
   "metadata": {},
   "outputs": [],
   "source": [
    "data = pd.DataFrame(df)\n",
    "data.info()"
   ]
  },
  {
   "cell_type": "code",
   "execution_count": null,
   "metadata": {},
   "outputs": [],
   "source": [
    "cr7.identificar_nulos(data)"
   ]
  },
  {
   "cell_type": "code",
   "execution_count": null,
   "metadata": {},
   "outputs": [],
   "source": [
    "df_ffill = cr7.sust_nulos_ffill(data)\n",
    "cr7.identificar_nulos(df_ffill)"
   ]
  },
  {
   "cell_type": "code",
   "execution_count": null,
   "metadata": {},
   "outputs": [],
   "source": [
    "df_bfill = cr7.sust_nulos_bfill(data)\n",
    "cr7.identificar_nulos(df_bfill)"
   ]
  },
  {
   "cell_type": "code",
   "execution_count": null,
   "metadata": {},
   "outputs": [],
   "source": [
    "df_bfill = cr7.sust_nulos_bfill(data)\n",
    "cr7.identificar_nulos(df_bfill)"
   ]
  },
  {
   "cell_type": "code",
   "execution_count": null,
   "metadata": {},
   "outputs": [],
   "source": [
    "df_string = cr7.sust_nulos_string(data)\n",
    "cr7.identificar_nulos(df_string)"
   ]
  },
  {
   "cell_type": "code",
   "execution_count": null,
   "metadata": {},
   "outputs": [],
   "source": [
    "df_promedio = cr7.sust_nulos_promedio(data)\n",
    "cr7.identificar_nulos(df_promedio)"
   ]
  },
  {
   "cell_type": "code",
   "execution_count": null,
   "metadata": {},
   "outputs": [],
   "source": [
    "df_mediana = cr7.sust_nulos_promedio(data)\n",
    "cr7.identificar_nulos(df_mediana)"
   ]
  },
  {
   "cell_type": "code",
   "execution_count": 8,
   "metadata": {},
   "outputs": [
    {
     "data": {
      "text/plain": [
       "('Nulos por columna:',\n",
       " Unnamed: 0                                      0\n",
       " id                                              0\n",
       " scrape_id                                       0\n",
       " last_scraped                                    0\n",
       " source                                          0\n",
       " host_id                                         0\n",
       " host_since                                      0\n",
       " host_response_time                              0\n",
       " host_response_rate                              0\n",
       " host_acceptance_rate                            0\n",
       " host_is_superhost                               0\n",
       " host_listings_count                             0\n",
       " host_has_profile_pic                            0\n",
       " host_identity_verified                          0\n",
       " neighbourhood_cleansed                          0\n",
       " latitude                                        0\n",
       " longitude                                       0\n",
       " property_type                                   0\n",
       " room_type                                       0\n",
       " accommodates                                    0\n",
       " bathrooms                                       0\n",
       " bathrooms_text                                  0\n",
       " bedrooms                                        0\n",
       " beds                                            0\n",
       " amenities                                       0\n",
       " price                                           0\n",
       " minimum_nights                                  0\n",
       " maximum_nights                                  0\n",
       " availability_30                                 0\n",
       " availability_60                                 0\n",
       " availability_90                                 0\n",
       " availability_365                                0\n",
       " number_of_reviews                               0\n",
       " number_of_reviews_ltm                           0\n",
       " number_of_reviews_l30d                          0\n",
       " first_review                                    0\n",
       " last_review                                     0\n",
       " review_scores_rating                            0\n",
       " review_scores_accuracy                          0\n",
       " review_scores_cleanliness                       0\n",
       " review_scores_checkin                           0\n",
       " review_scores_communication                     0\n",
       " review_scores_location                          0\n",
       " review_scores_value                             0\n",
       " license                                         0\n",
       " instant_bookable                                0\n",
       " calculated_host_listings_count                  0\n",
       " calculated_host_listings_count_entire_homes     0\n",
       " calculated_host_listings_count_private_rooms    0\n",
       " calculated_host_listings_count_shared_rooms     0\n",
       " reviews_per_month                               0\n",
       " dtype: int64,\n",
       " 'Nulos totales:',\n",
       " np.int64(0))"
      ]
     },
     "execution_count": 8,
     "metadata": {},
     "output_type": "execute_result"
    }
   ],
   "source": [
    "df_constante = cr7.sust_nulos_constante(data)\n",
    "cr7.identificar_nulos(df_constante)"
   ]
  }
 ],
 "metadata": {
  "kernelspec": {
   "display_name": "Python 3",
   "language": "python",
   "name": "python3"
  },
  "language_info": {
   "codemirror_mode": {
    "name": "ipython",
    "version": 3
   },
   "file_extension": ".py",
   "mimetype": "text/x-python",
   "name": "python",
   "nbconvert_exporter": "python",
   "pygments_lexer": "ipython3",
   "version": "3.13.2"
  }
 },
 "nbformat": 4,
 "nbformat_minor": 2
}
